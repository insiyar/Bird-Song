{
 "cells": [
  {
   "cell_type": "code",
   "execution_count": 12,
   "metadata": {},
   "outputs": [],
   "source": [
    "import os\n",
    "import random\n",
    "import shutil"
   ]
  },
  {
   "cell_type": "code",
   "execution_count": 13,
   "metadata": {},
   "outputs": [],
   "source": [
    "# Set the paths\n",
    "input_folder = '/Users/insiyar/Documents/Development/bird-song-classifier/output_spectrogram_folder'\n",
    "train_folder = '/Users/insiyar/Documents/Development/bird-song-classifier/CNN-Workflow/TVT/train'\n",
    "test_folder = '/Users/insiyar/Documents/Development/bird-song-classifier/CNN-Workflow/TVT/test'\n",
    "validation_folder = '/Users/insiyar/Documents/Development/bird-song-classifier/CNN-Workflow/TVT/validation'"
   ]
  },
  {
   "cell_type": "code",
   "execution_count": 14,
   "metadata": {},
   "outputs": [],
   "source": [
    "# Create the train, test, and validation folders if they don't exist\n",
    "os.makedirs(train_folder, exist_ok=True)\n",
    "os.makedirs(test_folder, exist_ok=True)\n",
    "os.makedirs(validation_folder, exist_ok=True)"
   ]
  },
  {
   "cell_type": "code",
   "execution_count": 15,
   "metadata": {},
   "outputs": [],
   "source": [
    "# Get the list of PNG files in the output folder\n",
    "png_files = [file for file in os.listdir(input_folder) if file.endswith('.png')]\n",
    "\n",
    "# Shuffle the list of PNG files\n",
    "random.shuffle(png_files)\n",
    "\n",
    "# Split the files into train, test, and validation sets\n",
    "train_files = png_files[:int(0.7 * len(png_files))]\n",
    "test_files = png_files[int(0.7 * len(png_files)):int(0.9 * len(png_files))]\n",
    "validation_files = png_files[int(0.9 * len(png_files)):]"
   ]
  },
  {
   "cell_type": "code",
   "execution_count": 16,
   "metadata": {},
   "outputs": [],
   "source": [
    "# Move the files to the respective folders\n",
    "for file in train_files:\n",
    "    shutil.copy(os.path.join(input_folder, file), os.path.join(train_folder, file))\n",
    "    \n",
    "for file in test_files:\n",
    "    shutil.copy(os.path.join(input_folder, file), os.path.join(test_folder, file))\n",
    "    \n",
    "for file in validation_files:\n",
    "    shutil.copy(os.path.join(input_folder, file), os.path.join(validation_folder, file))"
   ]
  },
  {
   "cell_type": "code",
   "execution_count": null,
   "metadata": {},
   "outputs": [],
   "source": []
  }
 ],
 "metadata": {
  "kernelspec": {
   "display_name": "audio",
   "language": "python",
   "name": "python3"
  },
  "language_info": {
   "codemirror_mode": {
    "name": "ipython",
    "version": 3
   },
   "file_extension": ".py",
   "mimetype": "text/x-python",
   "name": "python",
   "nbconvert_exporter": "python",
   "pygments_lexer": "ipython3",
   "version": "3.11.7"
  }
 },
 "nbformat": 4,
 "nbformat_minor": 2
}
