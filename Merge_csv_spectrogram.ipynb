{
 "cells": [
  {
   "cell_type": "code",
   "execution_count": 7,
   "metadata": {},
   "outputs": [],
   "source": [
    "import pandas as pd\n",
    "import os\n",
    "import numpy as np\n",
    "import cv2 "
   ]
  },
  {
   "cell_type": "code",
   "execution_count": 2,
   "metadata": {},
   "outputs": [],
   "source": [
    "df = pd.read_csv(\"wavfile_species_data.csv\")"
   ]
  },
  {
   "cell_type": "code",
   "execution_count": 4,
   "metadata": {},
   "outputs": [],
   "source": [
    "# Function to map features from df CSV file with spectrogram images\n",
    "def merge_features(csv_data):\n",
    "    spectrogram_folder = '/Users/insiyar/Documents/Development/Minor-2-Birdsong-Classifier/output_spectrogram_folder'\n",
    "    png_filenames = []\n",
    "    merged_data = csv_data.drop(columns=['filename'])\n",
    "    for wav_filename in csv_data['filename']:\n",
    "        # Extract common part of the filename without extension\n",
    "        common_filename = os.path.splitext(wav_filename)[0]\n",
    "        # Search for corresponding PNG file\n",
    "        png_filename = os.path.join(spectrogram_folder, common_filename + '.png')\n",
    "\n",
    "        if os.path.exists(png_filename):\n",
    "            png_filenames.append(common_filename + '.png')\n",
    "        else:\n",
    "            print(f\"No corresponding PNG file found for {wav_filename}\")\n",
    "    \n",
    "    merged_data['png_filename'] = png_filenames\n",
    "\n",
    "    return merged_data\n",
    "\n",
    "merged_data = merge_features(df)\n",
    "\n",
    "# Save merged data to a new CSV file\n",
    "merged_data.to_csv('spectrogram_species_data.csv', index=False)"
   ]
  },
  {
   "cell_type": "code",
   "execution_count": 9,
   "metadata": {},
   "outputs": [],
   "source": [
    "# Function to extract features from spectrogram images\n",
    "def extract_spectrogram_features(png_filename):\n",
    "    # Read the spectrogram image\n",
    "    spectrogram_image = cv2.imread(png_filename, cv2.IMREAD_GRAYSCALE)\n",
    "\n",
    "    # Calculate mean, median, standard deviation, minimum, and maximum\n",
    "    mean = np.mean(spectrogram_image)\n",
    "    median = np.median(spectrogram_image)\n",
    "    std_dev = np.std(spectrogram_image)\n",
    "    minimum = np.min(spectrogram_image)\n",
    "    maximum = np.max(spectrogram_image)\n",
    "\n",
    "    # Return the 5 features as a list\n",
    "    features = [mean, median, std_dev, minimum, maximum]\n",
    "    return features\n"
   ]
  },
  {
   "cell_type": "code",
   "execution_count": 8,
   "metadata": {},
   "outputs": [],
   "source": [
    "# Load CSV data\n",
    "df2 = pd.read_csv(\"spectrogram_species_data.csv\")"
   ]
  },
  {
   "cell_type": "code",
   "execution_count": 12,
   "metadata": {},
   "outputs": [],
   "source": [
    "def merge_features(csv_data):\n",
    "    spectrogram_features_list = []\n",
    "    spectrogram_folder = 'output_spectrogram_folder'\n",
    "\n",
    "    for filename in csv_data['png_filename']:\n",
    "        # Search for corresponding PNG file\n",
    "        png_filename = os.path.join(spectrogram_folder, filename)\n",
    "        if os.path.exists(png_filename):\n",
    "            spectrogram_features = extract_spectrogram_features(png_filename)\n",
    "            spectrogram_features_list.append(spectrogram_features)\n",
    "        else:\n",
    "            print(f\"No corresponding PNG file found for {filename}\")\n",
    "\n",
    "    spectrogram_df = pd.DataFrame(spectrogram_features_list, columns=['mean', 'median', 'std_dev', 'minimum', 'maximum'])\n",
    "    merged_data = pd.concat([csv_data, spectrogram_df], axis=1)\n",
    "    return merged_data\n",
    "\n",
    "merged_data = merge_features(df2)\n",
    "\n",
    "# Save merged data to a new CSV file\n",
    "merged_data.to_csv('Spectrogram_Features_data.csv', index=False)"
   ]
  }
 ],
 "metadata": {
  "kernelspec": {
   "display_name": "audio",
   "language": "python",
   "name": "python3"
  },
  "language_info": {
   "codemirror_mode": {
    "name": "ipython",
    "version": 3
   },
   "file_extension": ".py",
   "mimetype": "text/x-python",
   "name": "python",
   "nbconvert_exporter": "python",
   "pygments_lexer": "ipython3",
   "version": "3.11.7"
  }
 },
 "nbformat": 4,
 "nbformat_minor": 2
}
